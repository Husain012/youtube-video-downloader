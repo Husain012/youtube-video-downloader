{
 "cells": [
  {
   "cell_type": "code",
   "execution_count": 9,
   "id": "702b048c",
   "metadata": {},
   "outputs": [],
   "source": [
    "from tkinter import * \n",
    "from pytube import YouTube\n",
    "\n",
    "root = Tk()\n",
    "root.geometry('500x300')\n",
    "root.resizable(0, 0)\n",
    "root.title(\"YouTube Video Downloader\")\n",
    "\n",
    "Label(root, text='YouTube Video Downloader', font='arial 20 bold').place(x=70, y=30)\n",
    "\n",
    "link = StringVar()\n",
    "\n",
    "Label(root, text='Paste Link Here:', font='arial 15 bold').place(x=170, y=100)\n",
    "link_enter = Entry(root, width=70, textvariable=link).place(x=35, y=140)\n",
    "\n",
    "def Downloader():\n",
    "    url = YouTube(str(link.get()))\n",
    "    video = url.streams.first()\n",
    "    video.download()\n",
    "    Label(root, text='DOWNLOADED', font='arial 15').place(x=180, y=210)\n",
    "\n",
    "Button(root, text='DOWNLOAD', font='arial 15 bold', bg='#7AC5CD', padx=2, command=Downloader).place(x=180, y=180)\n",
    "\n",
    "root.mainloop()"
   ]
  },
  {
   "cell_type": "code",
   "execution_count": null,
   "id": "7e3a912d",
   "metadata": {},
   "outputs": [],
   "source": []
  }
 ],
 "metadata": {
  "kernelspec": {
   "display_name": "Python 3",
   "language": "python",
   "name": "python3"
  },
  "language_info": {
   "codemirror_mode": {
    "name": "ipython",
    "version": 3
   },
   "file_extension": ".py",
   "mimetype": "text/x-python",
   "name": "python",
   "nbconvert_exporter": "python",
   "pygments_lexer": "ipython3",
   "version": "3.8.8"
  }
 },
 "nbformat": 4,
 "nbformat_minor": 5
}
